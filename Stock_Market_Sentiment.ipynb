{
  "nbformat": 4,
  "nbformat_minor": 0,
  "metadata": {
    "colab": {
      "provenance": []
    },
    "kernelspec": {
      "name": "python3",
      "display_name": "Python 3"
    },
    "language_info": {
      "name": "python"
    }
  },
  "cells": [
    {
      "cell_type": "markdown",
      "source": [
        "**Stock news gathered from multiple Twitter handles regarding economic news is divided into two categories: negative (-1) and positive (1).**"
      ],
      "metadata": {
        "id": "HdVCx1LtGt3A"
      }
    },
    {
      "cell_type": "code",
      "source": [
        "import matplotlib.pyplot as plt\n",
        "import seaborn as sns\n",
        "import nltk\n",
        "import tensorflow as tf\n",
        "nltk.download('stopwords')\n",
        "from nltk.corpus import stopwords\n",
        "from nltk.stem import SnowballStemmer\n",
        "import re\n",
        "\n",
        "\n",
        "from keras.preprocessing.text import Tokenizer\n",
        "from keras.utils import pad_sequences\n",
        "\n",
        "\n",
        "from sklearn.model_selection import train_test_split\n",
        "from sklearn.preprocessing import LabelEncoder\n",
        "from tensorflow.keras.models import Sequential\n",
        "from tensorflow.keras.layers import Embedding, SpatialDropout1D, Conv1D, LSTM, Bidirectional, Dense, Dropout\n",
        "from keras.regularizers import l2\n"
      ],
      "metadata": {
        "colab": {
          "base_uri": "https://localhost:8080/"
        },
        "id": "oFEXd9OT2KTi",
        "outputId": "5db122ba-e0a7-4fc7-c5c9-f8d73ab673e0"
      },
      "execution_count": 2,
      "outputs": [
        {
          "output_type": "stream",
          "name": "stderr",
          "text": [
            "[nltk_data] Downloading package stopwords to /root/nltk_data...\n",
            "[nltk_data]   Unzipping corpora/stopwords.zip.\n"
          ]
        }
      ]
    },
    {
      "cell_type": "code",
      "execution_count": 3,
      "metadata": {
        "colab": {
          "base_uri": "https://localhost:8080/",
          "height": 363
        },
        "id": "utoV3TIJ02In",
        "outputId": "9ae7303a-1fe3-4ae7-9946-6c851a061e00"
      },
      "outputs": [
        {
          "output_type": "execute_result",
          "data": {
            "text/plain": [
              "                                                Text  Sentiment\n",
              "0  Kickers on my watchlist XIDE TIT SOQ PNK CPW B...          1\n",
              "1  user: AAP MOVIE. 55% return for the FEA/GEED i...          1\n",
              "2  user I'd be afraid to short AMZN - they are lo...          1\n",
              "3                                  MNTA Over 12.00            1\n",
              "4                                   OI  Over 21.37            1\n",
              "5                                  PGNX  Over 3.04            1\n",
              "6  AAP - user if so then the current downtrend wi...         -1\n",
              "7  Monday's relative weakness. NYX WIN TIE TAP IC...         -1\n",
              "8  GOOG - ower trend line channel test & volume s...          1\n",
              "9             AAP will watch tomorrow for ONG entry.          1"
            ],
            "text/html": [
              "\n",
              "  <div id=\"df-66e5e48f-63ea-4d99-826f-35a80523ec80\" class=\"colab-df-container\">\n",
              "    <div>\n",
              "<style scoped>\n",
              "    .dataframe tbody tr th:only-of-type {\n",
              "        vertical-align: middle;\n",
              "    }\n",
              "\n",
              "    .dataframe tbody tr th {\n",
              "        vertical-align: top;\n",
              "    }\n",
              "\n",
              "    .dataframe thead th {\n",
              "        text-align: right;\n",
              "    }\n",
              "</style>\n",
              "<table border=\"1\" class=\"dataframe\">\n",
              "  <thead>\n",
              "    <tr style=\"text-align: right;\">\n",
              "      <th></th>\n",
              "      <th>Text</th>\n",
              "      <th>Sentiment</th>\n",
              "    </tr>\n",
              "  </thead>\n",
              "  <tbody>\n",
              "    <tr>\n",
              "      <th>0</th>\n",
              "      <td>Kickers on my watchlist XIDE TIT SOQ PNK CPW B...</td>\n",
              "      <td>1</td>\n",
              "    </tr>\n",
              "    <tr>\n",
              "      <th>1</th>\n",
              "      <td>user: AAP MOVIE. 55% return for the FEA/GEED i...</td>\n",
              "      <td>1</td>\n",
              "    </tr>\n",
              "    <tr>\n",
              "      <th>2</th>\n",
              "      <td>user I'd be afraid to short AMZN - they are lo...</td>\n",
              "      <td>1</td>\n",
              "    </tr>\n",
              "    <tr>\n",
              "      <th>3</th>\n",
              "      <td>MNTA Over 12.00</td>\n",
              "      <td>1</td>\n",
              "    </tr>\n",
              "    <tr>\n",
              "      <th>4</th>\n",
              "      <td>OI  Over 21.37</td>\n",
              "      <td>1</td>\n",
              "    </tr>\n",
              "    <tr>\n",
              "      <th>5</th>\n",
              "      <td>PGNX  Over 3.04</td>\n",
              "      <td>1</td>\n",
              "    </tr>\n",
              "    <tr>\n",
              "      <th>6</th>\n",
              "      <td>AAP - user if so then the current downtrend wi...</td>\n",
              "      <td>-1</td>\n",
              "    </tr>\n",
              "    <tr>\n",
              "      <th>7</th>\n",
              "      <td>Monday's relative weakness. NYX WIN TIE TAP IC...</td>\n",
              "      <td>-1</td>\n",
              "    </tr>\n",
              "    <tr>\n",
              "      <th>8</th>\n",
              "      <td>GOOG - ower trend line channel test &amp; volume s...</td>\n",
              "      <td>1</td>\n",
              "    </tr>\n",
              "    <tr>\n",
              "      <th>9</th>\n",
              "      <td>AAP will watch tomorrow for ONG entry.</td>\n",
              "      <td>1</td>\n",
              "    </tr>\n",
              "  </tbody>\n",
              "</table>\n",
              "</div>\n",
              "    <div class=\"colab-df-buttons\">\n",
              "\n",
              "  <div class=\"colab-df-container\">\n",
              "    <button class=\"colab-df-convert\" onclick=\"convertToInteractive('df-66e5e48f-63ea-4d99-826f-35a80523ec80')\"\n",
              "            title=\"Convert this dataframe to an interactive table.\"\n",
              "            style=\"display:none;\">\n",
              "\n",
              "  <svg xmlns=\"http://www.w3.org/2000/svg\" height=\"24px\" viewBox=\"0 -960 960 960\">\n",
              "    <path d=\"M120-120v-720h720v720H120Zm60-500h600v-160H180v160Zm220 220h160v-160H400v160Zm0 220h160v-160H400v160ZM180-400h160v-160H180v160Zm440 0h160v-160H620v160ZM180-180h160v-160H180v160Zm440 0h160v-160H620v160Z\"/>\n",
              "  </svg>\n",
              "    </button>\n",
              "\n",
              "  <style>\n",
              "    .colab-df-container {\n",
              "      display:flex;\n",
              "      gap: 12px;\n",
              "    }\n",
              "\n",
              "    .colab-df-convert {\n",
              "      background-color: #E8F0FE;\n",
              "      border: none;\n",
              "      border-radius: 50%;\n",
              "      cursor: pointer;\n",
              "      display: none;\n",
              "      fill: #1967D2;\n",
              "      height: 32px;\n",
              "      padding: 0 0 0 0;\n",
              "      width: 32px;\n",
              "    }\n",
              "\n",
              "    .colab-df-convert:hover {\n",
              "      background-color: #E2EBFA;\n",
              "      box-shadow: 0px 1px 2px rgba(60, 64, 67, 0.3), 0px 1px 3px 1px rgba(60, 64, 67, 0.15);\n",
              "      fill: #174EA6;\n",
              "    }\n",
              "\n",
              "    .colab-df-buttons div {\n",
              "      margin-bottom: 4px;\n",
              "    }\n",
              "\n",
              "    [theme=dark] .colab-df-convert {\n",
              "      background-color: #3B4455;\n",
              "      fill: #D2E3FC;\n",
              "    }\n",
              "\n",
              "    [theme=dark] .colab-df-convert:hover {\n",
              "      background-color: #434B5C;\n",
              "      box-shadow: 0px 1px 3px 1px rgba(0, 0, 0, 0.15);\n",
              "      filter: drop-shadow(0px 1px 2px rgba(0, 0, 0, 0.3));\n",
              "      fill: #FFFFFF;\n",
              "    }\n",
              "  </style>\n",
              "\n",
              "    <script>\n",
              "      const buttonEl =\n",
              "        document.querySelector('#df-66e5e48f-63ea-4d99-826f-35a80523ec80 button.colab-df-convert');\n",
              "      buttonEl.style.display =\n",
              "        google.colab.kernel.accessAllowed ? 'block' : 'none';\n",
              "\n",
              "      async function convertToInteractive(key) {\n",
              "        const element = document.querySelector('#df-66e5e48f-63ea-4d99-826f-35a80523ec80');\n",
              "        const dataTable =\n",
              "          await google.colab.kernel.invokeFunction('convertToInteractive',\n",
              "                                                    [key], {});\n",
              "        if (!dataTable) return;\n",
              "\n",
              "        const docLinkHtml = 'Like what you see? Visit the ' +\n",
              "          '<a target=\"_blank\" href=https://colab.research.google.com/notebooks/data_table.ipynb>data table notebook</a>'\n",
              "          + ' to learn more about interactive tables.';\n",
              "        element.innerHTML = '';\n",
              "        dataTable['output_type'] = 'display_data';\n",
              "        await google.colab.output.renderOutput(dataTable, element);\n",
              "        const docLink = document.createElement('div');\n",
              "        docLink.innerHTML = docLinkHtml;\n",
              "        element.appendChild(docLink);\n",
              "      }\n",
              "    </script>\n",
              "  </div>\n",
              "\n",
              "\n",
              "<div id=\"df-cd12f228-7696-4a27-b780-b71e921e381d\">\n",
              "  <button class=\"colab-df-quickchart\" onclick=\"quickchart('df-cd12f228-7696-4a27-b780-b71e921e381d')\"\n",
              "            title=\"Suggest charts.\"\n",
              "            style=\"display:none;\">\n",
              "\n",
              "<svg xmlns=\"http://www.w3.org/2000/svg\" height=\"24px\"viewBox=\"0 0 24 24\"\n",
              "     width=\"24px\">\n",
              "    <g>\n",
              "        <path d=\"M19 3H5c-1.1 0-2 .9-2 2v14c0 1.1.9 2 2 2h14c1.1 0 2-.9 2-2V5c0-1.1-.9-2-2-2zM9 17H7v-7h2v7zm4 0h-2V7h2v10zm4 0h-2v-4h2v4z\"/>\n",
              "    </g>\n",
              "</svg>\n",
              "  </button>\n",
              "\n",
              "<style>\n",
              "  .colab-df-quickchart {\n",
              "      --bg-color: #E8F0FE;\n",
              "      --fill-color: #1967D2;\n",
              "      --hover-bg-color: #E2EBFA;\n",
              "      --hover-fill-color: #174EA6;\n",
              "      --disabled-fill-color: #AAA;\n",
              "      --disabled-bg-color: #DDD;\n",
              "  }\n",
              "\n",
              "  [theme=dark] .colab-df-quickchart {\n",
              "      --bg-color: #3B4455;\n",
              "      --fill-color: #D2E3FC;\n",
              "      --hover-bg-color: #434B5C;\n",
              "      --hover-fill-color: #FFFFFF;\n",
              "      --disabled-bg-color: #3B4455;\n",
              "      --disabled-fill-color: #666;\n",
              "  }\n",
              "\n",
              "  .colab-df-quickchart {\n",
              "    background-color: var(--bg-color);\n",
              "    border: none;\n",
              "    border-radius: 50%;\n",
              "    cursor: pointer;\n",
              "    display: none;\n",
              "    fill: var(--fill-color);\n",
              "    height: 32px;\n",
              "    padding: 0;\n",
              "    width: 32px;\n",
              "  }\n",
              "\n",
              "  .colab-df-quickchart:hover {\n",
              "    background-color: var(--hover-bg-color);\n",
              "    box-shadow: 0 1px 2px rgba(60, 64, 67, 0.3), 0 1px 3px 1px rgba(60, 64, 67, 0.15);\n",
              "    fill: var(--button-hover-fill-color);\n",
              "  }\n",
              "\n",
              "  .colab-df-quickchart-complete:disabled,\n",
              "  .colab-df-quickchart-complete:disabled:hover {\n",
              "    background-color: var(--disabled-bg-color);\n",
              "    fill: var(--disabled-fill-color);\n",
              "    box-shadow: none;\n",
              "  }\n",
              "\n",
              "  .colab-df-spinner {\n",
              "    border: 2px solid var(--fill-color);\n",
              "    border-color: transparent;\n",
              "    border-bottom-color: var(--fill-color);\n",
              "    animation:\n",
              "      spin 1s steps(1) infinite;\n",
              "  }\n",
              "\n",
              "  @keyframes spin {\n",
              "    0% {\n",
              "      border-color: transparent;\n",
              "      border-bottom-color: var(--fill-color);\n",
              "      border-left-color: var(--fill-color);\n",
              "    }\n",
              "    20% {\n",
              "      border-color: transparent;\n",
              "      border-left-color: var(--fill-color);\n",
              "      border-top-color: var(--fill-color);\n",
              "    }\n",
              "    30% {\n",
              "      border-color: transparent;\n",
              "      border-left-color: var(--fill-color);\n",
              "      border-top-color: var(--fill-color);\n",
              "      border-right-color: var(--fill-color);\n",
              "    }\n",
              "    40% {\n",
              "      border-color: transparent;\n",
              "      border-right-color: var(--fill-color);\n",
              "      border-top-color: var(--fill-color);\n",
              "    }\n",
              "    60% {\n",
              "      border-color: transparent;\n",
              "      border-right-color: var(--fill-color);\n",
              "    }\n",
              "    80% {\n",
              "      border-color: transparent;\n",
              "      border-right-color: var(--fill-color);\n",
              "      border-bottom-color: var(--fill-color);\n",
              "    }\n",
              "    90% {\n",
              "      border-color: transparent;\n",
              "      border-bottom-color: var(--fill-color);\n",
              "    }\n",
              "  }\n",
              "</style>\n",
              "\n",
              "  <script>\n",
              "    async function quickchart(key) {\n",
              "      const quickchartButtonEl =\n",
              "        document.querySelector('#' + key + ' button');\n",
              "      quickchartButtonEl.disabled = true;  // To prevent multiple clicks.\n",
              "      quickchartButtonEl.classList.add('colab-df-spinner');\n",
              "      try {\n",
              "        const charts = await google.colab.kernel.invokeFunction(\n",
              "            'suggestCharts', [key], {});\n",
              "      } catch (error) {\n",
              "        console.error('Error during call to suggestCharts:', error);\n",
              "      }\n",
              "      quickchartButtonEl.classList.remove('colab-df-spinner');\n",
              "      quickchartButtonEl.classList.add('colab-df-quickchart-complete');\n",
              "    }\n",
              "    (() => {\n",
              "      let quickchartButtonEl =\n",
              "        document.querySelector('#df-cd12f228-7696-4a27-b780-b71e921e381d button');\n",
              "      quickchartButtonEl.style.display =\n",
              "        google.colab.kernel.accessAllowed ? 'block' : 'none';\n",
              "    })();\n",
              "  </script>\n",
              "</div>\n",
              "    </div>\n",
              "  </div>\n"
            ]
          },
          "metadata": {},
          "execution_count": 3
        }
      ],
      "source": [
        "import pandas as pd\n",
        "\n",
        "df=pd.read_csv(\"stock_data.csv\")\n",
        "df.head(10)"
      ]
    },
    {
      "cell_type": "code",
      "source": [
        "df.columns = ['text', 'sentiment']\n",
        "df.head()"
      ],
      "metadata": {
        "colab": {
          "base_uri": "https://localhost:8080/",
          "height": 206
        },
        "id": "FLBZEuMi8WXd",
        "outputId": "d496e3a6-82b3-4844-b6f2-0da663077c9d"
      },
      "execution_count": 4,
      "outputs": [
        {
          "output_type": "execute_result",
          "data": {
            "text/plain": [
              "                                                text  sentiment\n",
              "0  Kickers on my watchlist XIDE TIT SOQ PNK CPW B...          1\n",
              "1  user: AAP MOVIE. 55% return for the FEA/GEED i...          1\n",
              "2  user I'd be afraid to short AMZN - they are lo...          1\n",
              "3                                  MNTA Over 12.00            1\n",
              "4                                   OI  Over 21.37            1"
            ],
            "text/html": [
              "\n",
              "  <div id=\"df-8835b3b5-855b-460d-a238-8b57f30dfee1\" class=\"colab-df-container\">\n",
              "    <div>\n",
              "<style scoped>\n",
              "    .dataframe tbody tr th:only-of-type {\n",
              "        vertical-align: middle;\n",
              "    }\n",
              "\n",
              "    .dataframe tbody tr th {\n",
              "        vertical-align: top;\n",
              "    }\n",
              "\n",
              "    .dataframe thead th {\n",
              "        text-align: right;\n",
              "    }\n",
              "</style>\n",
              "<table border=\"1\" class=\"dataframe\">\n",
              "  <thead>\n",
              "    <tr style=\"text-align: right;\">\n",
              "      <th></th>\n",
              "      <th>text</th>\n",
              "      <th>sentiment</th>\n",
              "    </tr>\n",
              "  </thead>\n",
              "  <tbody>\n",
              "    <tr>\n",
              "      <th>0</th>\n",
              "      <td>Kickers on my watchlist XIDE TIT SOQ PNK CPW B...</td>\n",
              "      <td>1</td>\n",
              "    </tr>\n",
              "    <tr>\n",
              "      <th>1</th>\n",
              "      <td>user: AAP MOVIE. 55% return for the FEA/GEED i...</td>\n",
              "      <td>1</td>\n",
              "    </tr>\n",
              "    <tr>\n",
              "      <th>2</th>\n",
              "      <td>user I'd be afraid to short AMZN - they are lo...</td>\n",
              "      <td>1</td>\n",
              "    </tr>\n",
              "    <tr>\n",
              "      <th>3</th>\n",
              "      <td>MNTA Over 12.00</td>\n",
              "      <td>1</td>\n",
              "    </tr>\n",
              "    <tr>\n",
              "      <th>4</th>\n",
              "      <td>OI  Over 21.37</td>\n",
              "      <td>1</td>\n",
              "    </tr>\n",
              "  </tbody>\n",
              "</table>\n",
              "</div>\n",
              "    <div class=\"colab-df-buttons\">\n",
              "\n",
              "  <div class=\"colab-df-container\">\n",
              "    <button class=\"colab-df-convert\" onclick=\"convertToInteractive('df-8835b3b5-855b-460d-a238-8b57f30dfee1')\"\n",
              "            title=\"Convert this dataframe to an interactive table.\"\n",
              "            style=\"display:none;\">\n",
              "\n",
              "  <svg xmlns=\"http://www.w3.org/2000/svg\" height=\"24px\" viewBox=\"0 -960 960 960\">\n",
              "    <path d=\"M120-120v-720h720v720H120Zm60-500h600v-160H180v160Zm220 220h160v-160H400v160Zm0 220h160v-160H400v160ZM180-400h160v-160H180v160Zm440 0h160v-160H620v160ZM180-180h160v-160H180v160Zm440 0h160v-160H620v160Z\"/>\n",
              "  </svg>\n",
              "    </button>\n",
              "\n",
              "  <style>\n",
              "    .colab-df-container {\n",
              "      display:flex;\n",
              "      gap: 12px;\n",
              "    }\n",
              "\n",
              "    .colab-df-convert {\n",
              "      background-color: #E8F0FE;\n",
              "      border: none;\n",
              "      border-radius: 50%;\n",
              "      cursor: pointer;\n",
              "      display: none;\n",
              "      fill: #1967D2;\n",
              "      height: 32px;\n",
              "      padding: 0 0 0 0;\n",
              "      width: 32px;\n",
              "    }\n",
              "\n",
              "    .colab-df-convert:hover {\n",
              "      background-color: #E2EBFA;\n",
              "      box-shadow: 0px 1px 2px rgba(60, 64, 67, 0.3), 0px 1px 3px 1px rgba(60, 64, 67, 0.15);\n",
              "      fill: #174EA6;\n",
              "    }\n",
              "\n",
              "    .colab-df-buttons div {\n",
              "      margin-bottom: 4px;\n",
              "    }\n",
              "\n",
              "    [theme=dark] .colab-df-convert {\n",
              "      background-color: #3B4455;\n",
              "      fill: #D2E3FC;\n",
              "    }\n",
              "\n",
              "    [theme=dark] .colab-df-convert:hover {\n",
              "      background-color: #434B5C;\n",
              "      box-shadow: 0px 1px 3px 1px rgba(0, 0, 0, 0.15);\n",
              "      filter: drop-shadow(0px 1px 2px rgba(0, 0, 0, 0.3));\n",
              "      fill: #FFFFFF;\n",
              "    }\n",
              "  </style>\n",
              "\n",
              "    <script>\n",
              "      const buttonEl =\n",
              "        document.querySelector('#df-8835b3b5-855b-460d-a238-8b57f30dfee1 button.colab-df-convert');\n",
              "      buttonEl.style.display =\n",
              "        google.colab.kernel.accessAllowed ? 'block' : 'none';\n",
              "\n",
              "      async function convertToInteractive(key) {\n",
              "        const element = document.querySelector('#df-8835b3b5-855b-460d-a238-8b57f30dfee1');\n",
              "        const dataTable =\n",
              "          await google.colab.kernel.invokeFunction('convertToInteractive',\n",
              "                                                    [key], {});\n",
              "        if (!dataTable) return;\n",
              "\n",
              "        const docLinkHtml = 'Like what you see? Visit the ' +\n",
              "          '<a target=\"_blank\" href=https://colab.research.google.com/notebooks/data_table.ipynb>data table notebook</a>'\n",
              "          + ' to learn more about interactive tables.';\n",
              "        element.innerHTML = '';\n",
              "        dataTable['output_type'] = 'display_data';\n",
              "        await google.colab.output.renderOutput(dataTable, element);\n",
              "        const docLink = document.createElement('div');\n",
              "        docLink.innerHTML = docLinkHtml;\n",
              "        element.appendChild(docLink);\n",
              "      }\n",
              "    </script>\n",
              "  </div>\n",
              "\n",
              "\n",
              "<div id=\"df-80bc57ea-a7bc-43da-9074-f4070e13959f\">\n",
              "  <button class=\"colab-df-quickchart\" onclick=\"quickchart('df-80bc57ea-a7bc-43da-9074-f4070e13959f')\"\n",
              "            title=\"Suggest charts.\"\n",
              "            style=\"display:none;\">\n",
              "\n",
              "<svg xmlns=\"http://www.w3.org/2000/svg\" height=\"24px\"viewBox=\"0 0 24 24\"\n",
              "     width=\"24px\">\n",
              "    <g>\n",
              "        <path d=\"M19 3H5c-1.1 0-2 .9-2 2v14c0 1.1.9 2 2 2h14c1.1 0 2-.9 2-2V5c0-1.1-.9-2-2-2zM9 17H7v-7h2v7zm4 0h-2V7h2v10zm4 0h-2v-4h2v4z\"/>\n",
              "    </g>\n",
              "</svg>\n",
              "  </button>\n",
              "\n",
              "<style>\n",
              "  .colab-df-quickchart {\n",
              "      --bg-color: #E8F0FE;\n",
              "      --fill-color: #1967D2;\n",
              "      --hover-bg-color: #E2EBFA;\n",
              "      --hover-fill-color: #174EA6;\n",
              "      --disabled-fill-color: #AAA;\n",
              "      --disabled-bg-color: #DDD;\n",
              "  }\n",
              "\n",
              "  [theme=dark] .colab-df-quickchart {\n",
              "      --bg-color: #3B4455;\n",
              "      --fill-color: #D2E3FC;\n",
              "      --hover-bg-color: #434B5C;\n",
              "      --hover-fill-color: #FFFFFF;\n",
              "      --disabled-bg-color: #3B4455;\n",
              "      --disabled-fill-color: #666;\n",
              "  }\n",
              "\n",
              "  .colab-df-quickchart {\n",
              "    background-color: var(--bg-color);\n",
              "    border: none;\n",
              "    border-radius: 50%;\n",
              "    cursor: pointer;\n",
              "    display: none;\n",
              "    fill: var(--fill-color);\n",
              "    height: 32px;\n",
              "    padding: 0;\n",
              "    width: 32px;\n",
              "  }\n",
              "\n",
              "  .colab-df-quickchart:hover {\n",
              "    background-color: var(--hover-bg-color);\n",
              "    box-shadow: 0 1px 2px rgba(60, 64, 67, 0.3), 0 1px 3px 1px rgba(60, 64, 67, 0.15);\n",
              "    fill: var(--button-hover-fill-color);\n",
              "  }\n",
              "\n",
              "  .colab-df-quickchart-complete:disabled,\n",
              "  .colab-df-quickchart-complete:disabled:hover {\n",
              "    background-color: var(--disabled-bg-color);\n",
              "    fill: var(--disabled-fill-color);\n",
              "    box-shadow: none;\n",
              "  }\n",
              "\n",
              "  .colab-df-spinner {\n",
              "    border: 2px solid var(--fill-color);\n",
              "    border-color: transparent;\n",
              "    border-bottom-color: var(--fill-color);\n",
              "    animation:\n",
              "      spin 1s steps(1) infinite;\n",
              "  }\n",
              "\n",
              "  @keyframes spin {\n",
              "    0% {\n",
              "      border-color: transparent;\n",
              "      border-bottom-color: var(--fill-color);\n",
              "      border-left-color: var(--fill-color);\n",
              "    }\n",
              "    20% {\n",
              "      border-color: transparent;\n",
              "      border-left-color: var(--fill-color);\n",
              "      border-top-color: var(--fill-color);\n",
              "    }\n",
              "    30% {\n",
              "      border-color: transparent;\n",
              "      border-left-color: var(--fill-color);\n",
              "      border-top-color: var(--fill-color);\n",
              "      border-right-color: var(--fill-color);\n",
              "    }\n",
              "    40% {\n",
              "      border-color: transparent;\n",
              "      border-right-color: var(--fill-color);\n",
              "      border-top-color: var(--fill-color);\n",
              "    }\n",
              "    60% {\n",
              "      border-color: transparent;\n",
              "      border-right-color: var(--fill-color);\n",
              "    }\n",
              "    80% {\n",
              "      border-color: transparent;\n",
              "      border-right-color: var(--fill-color);\n",
              "      border-bottom-color: var(--fill-color);\n",
              "    }\n",
              "    90% {\n",
              "      border-color: transparent;\n",
              "      border-bottom-color: var(--fill-color);\n",
              "    }\n",
              "  }\n",
              "</style>\n",
              "\n",
              "  <script>\n",
              "    async function quickchart(key) {\n",
              "      const quickchartButtonEl =\n",
              "        document.querySelector('#' + key + ' button');\n",
              "      quickchartButtonEl.disabled = true;  // To prevent multiple clicks.\n",
              "      quickchartButtonEl.classList.add('colab-df-spinner');\n",
              "      try {\n",
              "        const charts = await google.colab.kernel.invokeFunction(\n",
              "            'suggestCharts', [key], {});\n",
              "      } catch (error) {\n",
              "        console.error('Error during call to suggestCharts:', error);\n",
              "      }\n",
              "      quickchartButtonEl.classList.remove('colab-df-spinner');\n",
              "      quickchartButtonEl.classList.add('colab-df-quickchart-complete');\n",
              "    }\n",
              "    (() => {\n",
              "      let quickchartButtonEl =\n",
              "        document.querySelector('#df-80bc57ea-a7bc-43da-9074-f4070e13959f button');\n",
              "      quickchartButtonEl.style.display =\n",
              "        google.colab.kernel.accessAllowed ? 'block' : 'none';\n",
              "    })();\n",
              "  </script>\n",
              "</div>\n",
              "    </div>\n",
              "  </div>\n"
            ]
          },
          "metadata": {},
          "execution_count": 4
        }
      ]
    },
    {
      "cell_type": "code",
      "source": [
        "sns.countplot(x='sentiment', data=df)"
      ],
      "metadata": {
        "colab": {
          "base_uri": "https://localhost:8080/",
          "height": 466
        },
        "id": "UWoZTGf-FBNr",
        "outputId": "aa5d30ef-2560-42e6-96e0-d921f77ffc42"
      },
      "execution_count": 5,
      "outputs": [
        {
          "output_type": "execute_result",
          "data": {
            "text/plain": [
              "<Axes: xlabel='sentiment', ylabel='count'>"
            ]
          },
          "metadata": {},
          "execution_count": 5
        },
        {
          "output_type": "display_data",
          "data": {
            "text/plain": [
              "<Figure size 640x480 with 1 Axes>"
            ],
            "image/png": "[encoded data removed]"
          },
          "metadata": {}
        }
      ]
    },
    {
      "cell_type": "markdown",
      "source": [
        "This line \"clean = \"@\\S+|https?:\\S+|http?:\\S|[^A-Za-z0-9]+\" uses regular expressions to clean and preprocess the input text:\n",
        "\n",
        "    - @\\S+: This part matches Twitter handles (e.g., @username).\n",
        "    - https?:\\S+|http?:\\S: This part matches URLs.\n",
        "    - [^A-Za-z0-9]+: This part matches any character that is not an uppercase letter, a lowercase letter, or a digit (0-9)."
      ],
      "metadata": {
        "id": "BdytM8DGPDZU"
      }
    },
    {
      "cell_type": "code",
      "source": [
        "stop_words = stopwords.words('english')\n",
        "stemmer = SnowballStemmer('english')\n",
        "\n",
        "clean = \"@\\S+|https?:\\S+|http?:\\S|[^A-Za-z0-9]+\""
      ],
      "metadata": {
        "id": "uf_eykAt7S3l"
      },
      "execution_count": 33,
      "outputs": []
    },
    {
      "cell_type": "code",
      "source": [
        "def prepare(text, stem=False):  #Preprocessing the texts\n",
        "  text_prepared = re.sub(clean, ' ', str(text).lower()).strip()\n",
        "  tokens = [token if not stem else stemmer.stem(token) for token in text_prepared.split() if token not in stop_words]\n",
        "  return \" \".join(tokens)"
      ],
      "metadata": {
        "id": "j9AMRBmi7ssK"
      },
      "execution_count": 34,
      "outputs": []
    },
    {
      "cell_type": "code",
      "source": [
        "df.text = df.text.apply(lambda x: prepare(x))"
      ],
      "metadata": {
        "id": "yD1lXwIN7zvI"
      },
      "execution_count": 35,
      "outputs": []
    },
    {
      "cell_type": "code",
      "source": [
        "train_size = 0.8\n",
        "num_words = 10000\n",
        "max_length = 30"
      ],
      "metadata": {
        "id": "ImXND6Jw-TMi"
      },
      "execution_count": 40,
      "outputs": []
    },
    {
      "cell_type": "markdown",
      "source": [
        "Split of the data to training-set and testing-set:"
      ],
      "metadata": {
        "id": "OQkfQtr_Vjb6"
      }
    },
    {
      "cell_type": "code",
      "source": [
        "train_data, test_data = train_test_split(df, test_size=1-train_size, random_state=42)\n",
        "\n",
        "print(\"Train Data size:\", len(train_data))\n",
        "print(\"Test Data size\", len(test_data))"
      ],
      "metadata": {
        "colab": {
          "base_uri": "https://localhost:8080/"
        },
        "id": "QM_NLOZa-XoN",
        "outputId": "7baeee7e-9940-462a-fbb5-2b7e1d894d44"
      },
      "execution_count": 10,
      "outputs": [
        {
          "output_type": "stream",
          "name": "stdout",
          "text": [
            "Train Data size: 4632\n",
            "Test Data size 1159\n"
          ]
        }
      ]
    },
    {
      "cell_type": "markdown",
      "source": [
        "Creating the Tokenizer:"
      ],
      "metadata": {
        "id": "rWvBaU79VxVI"
      }
    },
    {
      "cell_type": "code",
      "source": [
        "tokenizer = Tokenizer()\n",
        "tokenizer.fit_on_texts(train_data.text)"
      ],
      "metadata": {
        "id": "13jp8RQ3-ji-"
      },
      "execution_count": 11,
      "outputs": []
    },
    {
      "cell_type": "code",
      "source": [
        "word_index = tokenizer.word_index\n",
        "vocab_size = len(tokenizer.word_index) + 1\n",
        "print(\"Vocabulary Size :\", vocab_size)"
      ],
      "metadata": {
        "colab": {
          "base_uri": "https://localhost:8080/"
        },
        "id": "kSkzOm6J-uPj",
        "outputId": "ef58845e-1ff8-4413-98d9-1ff99054b51a"
      },
      "execution_count": 12,
      "outputs": [
        {
          "output_type": "stream",
          "name": "stdout",
          "text": [
            "Vocabulary Size : 7947\n"
          ]
        }
      ]
    },
    {
      "cell_type": "markdown",
      "source": [
        "Padding:"
      ],
      "metadata": {
        "id": "0bcuxPAMWBm1"
      }
    },
    {
      "cell_type": "code",
      "source": [
        "x_train = pad_sequences(tokenizer.texts_to_sequences(train_data.text), maxlen = max_length)\n",
        "x_test = pad_sequences(tokenizer.texts_to_sequences(test_data.text), maxlen = max_length)\n",
        "\n",
        "print(\"Training X Shape:\",x_train.shape)\n",
        "print(\"Testing X Shape:\",x_test.shape)"
      ],
      "metadata": {
        "colab": {
          "base_uri": "https://localhost:8080/"
        },
        "id": "o9eA6DTK-4cp",
        "outputId": "9d782c97-d425-47c9-afee-b2cfca075bdd"
      },
      "execution_count": 13,
      "outputs": [
        {
          "output_type": "stream",
          "name": "stdout",
          "text": [
            "Training X Shape: (4632, 30)\n",
            "Testing X Shape: (1159, 30)\n"
          ]
        }
      ]
    },
    {
      "cell_type": "markdown",
      "source": [
        "Label encoding is applied to the sentiment labels in the dataset to convert the non-integer values into numerical representations:"
      ],
      "metadata": {
        "id": "iRZz56_hYpBo"
      }
    },
    {
      "cell_type": "code",
      "source": [
        "label_encoder = LabelEncoder()\n",
        "\n",
        "# transforming the \"sentiment\" column in the training data\n",
        "train_data['sentiment_encoded'] = label_encoder.fit_transform(train_data['sentiment'])\n",
        "test_data['sentiment_encoded'] = label_encoder.transform(test_data['sentiment'])\n",
        "\n",
        "# training and testing labels\n",
        "y_train = train_data['sentiment_encoded']\n",
        "y_test = test_data['sentiment_encoded']\n",
        "\n",
        "# Size reshaped to ensure the match with the input data\n",
        "y_train = train_data['sentiment_encoded'].values.reshape(-1, 1)\n",
        "y_test = test_data['sentiment_encoded'].values.reshape(-1, 1)\n",
        "\n",
        "print(\"y_train shape:\", y_train.shape)\n",
        "print(\"y_test shape:\", y_test.shape)"
      ],
      "metadata": {
        "colab": {
          "base_uri": "https://localhost:8080/"
        },
        "id": "i5Z0Qk2nDXxV",
        "outputId": "51b108d4-6329-4e5c-f549-c5e6be08cdad"
      },
      "execution_count": 38,
      "outputs": [
        {
          "output_type": "stream",
          "name": "stdout",
          "text": [
            "y_train shape: (4632, 1)\n",
            "y_test shape: (1159, 1)\n"
          ]
        }
      ]
    },
    {
      "cell_type": "markdown",
      "source": [
        "Building the model:"
      ],
      "metadata": {
        "id": "q9ZjKgw0ZqoZ"
      }
    },
    {
      "cell_type": "code",
      "source": [
        "embedding_dim = 16\n",
        "dense_dim = 6\n",
        "\n",
        "# Model Definition with a Flatten layer\n",
        "model_flatten = tf.keras.Sequential([\n",
        "    tf.keras.layers.Embedding(num_words, embedding_dim, input_length=max_length),\n",
        "    tf.keras.layers.Flatten(),\n",
        "    tf.keras.layers.Dense(dense_dim, activation='relu'),\n",
        "    tf.keras.layers.Dense(1, activation='sigmoid')\n",
        "])\n",
        "\n",
        "model_flatten.compile(loss='binary_crossentropy',optimizer='adam',metrics=['accuracy'])\n",
        "\n",
        "model_flatten.summary()"
      ],
      "metadata": {
        "colab": {
          "base_uri": "https://localhost:8080/"
        },
        "id": "8silkiccD-rX",
        "outputId": "4363c7e9-2aac-4b29-8151-35bc26183fb2"
      },
      "execution_count": 15,
      "outputs": [
        {
          "output_type": "stream",
          "name": "stdout",
          "text": [
            "Model: \"sequential\"\n",
            "_________________________________________________________________\n",
            " Layer (type)                Output Shape              Param #   \n",
            "=================================================================\n",
            " embedding (Embedding)       (None, 30, 16)            1600000   \n",
            "                                                                 \n",
            " flatten (Flatten)           (None, 480)               0         \n",
            "                                                                 \n",
            " dense (Dense)               (None, 6)                 2886      \n",
            "                                                                 \n",
            " dense_1 (Dense)             (None, 1)                 7         \n",
            "                                                                 \n",
            "=================================================================\n",
            "Total params: 1602893 (6.11 MB)\n",
            "Trainable params: 1602893 (6.11 MB)\n",
            "Non-trainable params: 0 (0.00 Byte)\n",
            "_________________________________________________________________\n"
          ]
        }
      ]
    },
    {
      "cell_type": "code",
      "source": [
        "NUM_EPOCHS = 25\n",
        "BATCH_SIZE = 128\n",
        "\n",
        "history_flatten = model_flatten.fit(x_train, y_train, batch_size=BATCH_SIZE, epochs=NUM_EPOCHS, validation_data=(x_test, y_test))"
      ],
      "metadata": {
        "colab": {
          "base_uri": "https://localhost:8080/"
        },
        "id": "IHUdT2d-Gm-_",
        "outputId": "b8d036a7-60eb-4406-82dd-0ee19a064b72"
      },
      "execution_count": 16,
      "outputs": [
        {
          "output_type": "stream",
          "name": "stdout",
          "text": [
            "Epoch 1/25\n",
            "37/37 [==============================] - 2s 31ms/step - loss: 0.6787 - accuracy: 0.6157 - val_loss: 0.6573 - val_accuracy: 0.6428\n",
            "Epoch 2/25\n",
            "37/37 [==============================] - 1s 23ms/step - loss: 0.6511 - accuracy: 0.6347 - val_loss: 0.6494 - val_accuracy: 0.6428\n",
            "Epoch 3/25\n",
            "37/37 [==============================] - 1s 23ms/step - loss: 0.6356 - accuracy: 0.6347 - val_loss: 0.6417 - val_accuracy: 0.6428\n",
            "Epoch 4/25\n",
            "37/37 [==============================] - 1s 24ms/step - loss: 0.6064 - accuracy: 0.6347 - val_loss: 0.6262 - val_accuracy: 0.6428\n",
            "Epoch 5/25\n",
            "37/37 [==============================] - 1s 23ms/step - loss: 0.5538 - accuracy: 0.6673 - val_loss: 0.5985 - val_accuracy: 0.6566\n",
            "Epoch 6/25\n",
            "37/37 [==============================] - 1s 23ms/step - loss: 0.4682 - accuracy: 0.8076 - val_loss: 0.5546 - val_accuracy: 0.7015\n",
            "Epoch 7/25\n",
            "37/37 [==============================] - 1s 23ms/step - loss: 0.3268 - accuracy: 0.9197 - val_loss: 0.5037 - val_accuracy: 0.7619\n",
            "Epoch 8/25\n",
            "37/37 [==============================] - 1s 25ms/step - loss: 0.2013 - accuracy: 0.9592 - val_loss: 0.4902 - val_accuracy: 0.7679\n",
            "Epoch 9/25\n",
            "37/37 [==============================] - 1s 31ms/step - loss: 0.1282 - accuracy: 0.9763 - val_loss: 0.4869 - val_accuracy: 0.7731\n",
            "Epoch 10/25\n",
            "37/37 [==============================] - 1s 31ms/step - loss: 0.0859 - accuracy: 0.9866 - val_loss: 0.4869 - val_accuracy: 0.7731\n",
            "Epoch 11/25\n",
            "37/37 [==============================] - 1s 23ms/step - loss: 0.0606 - accuracy: 0.9933 - val_loss: 0.5009 - val_accuracy: 0.7800\n",
            "Epoch 12/25\n",
            "37/37 [==============================] - 1s 21ms/step - loss: 0.0443 - accuracy: 0.9963 - val_loss: 0.5162 - val_accuracy: 0.7860\n",
            "Epoch 13/25\n",
            "37/37 [==============================] - 1s 21ms/step - loss: 0.0334 - accuracy: 0.9974 - val_loss: 0.5237 - val_accuracy: 0.7817\n",
            "Epoch 14/25\n",
            "37/37 [==============================] - 1s 22ms/step - loss: 0.0259 - accuracy: 0.9976 - val_loss: 0.5391 - val_accuracy: 0.7817\n",
            "Epoch 15/25\n",
            "37/37 [==============================] - 1s 22ms/step - loss: 0.0207 - accuracy: 0.9981 - val_loss: 0.5618 - val_accuracy: 0.7817\n",
            "Epoch 16/25\n",
            "37/37 [==============================] - 1s 22ms/step - loss: 0.0169 - accuracy: 0.9983 - val_loss: 0.5641 - val_accuracy: 0.7808\n",
            "Epoch 17/25\n",
            "37/37 [==============================] - 1s 22ms/step - loss: 0.0140 - accuracy: 0.9987 - val_loss: 0.5756 - val_accuracy: 0.7783\n",
            "Epoch 18/25\n",
            "37/37 [==============================] - 1s 22ms/step - loss: 0.0117 - accuracy: 0.9989 - val_loss: 0.5858 - val_accuracy: 0.7826\n",
            "Epoch 19/25\n",
            "37/37 [==============================] - 1s 22ms/step - loss: 0.0100 - accuracy: 0.9991 - val_loss: 0.6030 - val_accuracy: 0.7783\n",
            "Epoch 20/25\n",
            "37/37 [==============================] - 1s 22ms/step - loss: 0.0085 - accuracy: 0.9991 - val_loss: 0.6148 - val_accuracy: 0.7791\n",
            "Epoch 21/25\n",
            "37/37 [==============================] - 1s 22ms/step - loss: 0.0076 - accuracy: 0.9994 - val_loss: 0.6259 - val_accuracy: 0.7800\n",
            "Epoch 22/25\n",
            "37/37 [==============================] - 1s 22ms/step - loss: 0.0065 - accuracy: 0.9996 - val_loss: 0.6272 - val_accuracy: 0.7843\n",
            "Epoch 23/25\n",
            "37/37 [==============================] - 1s 31ms/step - loss: 0.0059 - accuracy: 0.9996 - val_loss: 0.6521 - val_accuracy: 0.7765\n",
            "Epoch 24/25\n",
            "37/37 [==============================] - 1s 31ms/step - loss: 0.0055 - accuracy: 0.9991 - val_loss: 0.6619 - val_accuracy: 0.7765\n",
            "Epoch 25/25\n",
            "37/37 [==============================] - 1s 28ms/step - loss: 0.0048 - accuracy: 0.9994 - val_loss: 0.6619 - val_accuracy: 0.7817\n"
          ]
        }
      ]
    },
    {
      "cell_type": "code",
      "source": [
        "def plot_graphs(history, string):\n",
        "  plt.plot(history.history[string])\n",
        "  plt.plot(history.history['val_'+string])\n",
        "  plt.xlabel(\"Epochs\")\n",
        "  plt.ylabel(string)\n",
        "  plt.legend([string, 'val_'+string])\n",
        "  plt.show()"
      ],
      "metadata": {
        "id": "df_rpBqBHLQN"
      },
      "execution_count": 17,
      "outputs": []
    },
    {
      "cell_type": "code",
      "source": [
        "plot_graphs(history_flatten, 'accuracy')\n",
        "plot_graphs(history_flatten, 'loss')"
      ],
      "metadata": {
        "colab": {
          "base_uri": "https://localhost:8080/",
          "height": 881
        },
        "id": "eUWCN8C9HPAY",
        "outputId": "06a06dce-d172-42f8-bc9d-6a3c23b70cec"
      },
      "execution_count": 18,
      "outputs": [
        {
          "output_type": "display_data",
          "data": {
            "text/plain": [
              "<Figure size 640x480 with 1 Axes>"
            ],
            "image/png": "[encoded data removed]"
          },
          "metadata": {}
        },
        {
          "output_type": "display_data",
          "data": {
            "text/plain": [
              "<Figure size 640x480 with 1 Axes>"
            ],
            "image/png": "[encoded data removed]"
          },
          "metadata": {}
        }
      ]
    },
    {
      "cell_type": "markdown",
      "source": [
        "To address the issue of overfitting, particularly the behavior of the validation loss that decreases and then increases, we have adopted a simplified model architecture. This model consists of an embedding layer, a reduced LSTM layer with 64 units, and dropout layers with a dropout rate of 0.2 for both input and recurrent connections. Additionally, there is a single dense layer with a sigmoid activation function for binary classification. This approach aims to reduce model complexity while promoting robustness against overfitting:"
      ],
      "metadata": {
        "id": "klZYmswJaNjX"
      }
    },
    {
      "cell_type": "code",
      "source": [
        "embedding_dim = 16\n",
        "\n",
        "# Model Definition with LSTM\n",
        "model_lstm = tf.keras.Sequential([\n",
        "    tf.keras.layers.Embedding(num_words, embedding_dim, input_length=max_length),\n",
        "    tf.keras.layers.LSTM(64, dropout=0.2, recurrent_dropout=0.2),\n",
        "    tf.keras.layers.Dense(1, activation='sigmoid')\n",
        "])\n",
        "\n",
        "model_lstm.compile(loss='binary_crossentropy',optimizer='adam',metrics=['accuracy'])\n",
        "\n",
        "model_lstm.summary()"
      ],
      "metadata": {
        "colab": {
          "base_uri": "https://localhost:8080/"
        },
        "id": "oBL09e6KHnxJ",
        "outputId": "78b64ae2-9ad2-42bd-ceda-386e5855be76"
      },
      "execution_count": 44,
      "outputs": [
        {
          "output_type": "stream",
          "name": "stdout",
          "text": [
            "Model: \"sequential_6\"\n",
            "_________________________________________________________________\n",
            " Layer (type)                Output Shape              Param #   \n",
            "=================================================================\n",
            " embedding_6 (Embedding)     (None, 30, 16)            160000    \n",
            "                                                                 \n",
            " lstm_5 (LSTM)               (None, 64)                20736     \n",
            "                                                                 \n",
            " dense_14 (Dense)            (None, 1)                 65        \n",
            "                                                                 \n",
            "=================================================================\n",
            "Total params: 180801 (706.25 KB)\n",
            "Trainable params: 180801 (706.25 KB)\n",
            "Non-trainable params: 0 (0.00 Byte)\n",
            "_________________________________________________________________\n"
          ]
        }
      ]
    },
    {
      "cell_type": "code",
      "source": [
        "NUM_EPOCHS = 25\n",
        "BATCH_SIZE = 128\n",
        "\n",
        "history_lstm = model_lstm.fit(x_train, y_train, batch_size=BATCH_SIZE, epochs=NUM_EPOCHS, validation_data=(x_test, y_test))"
      ],
      "metadata": {
        "colab": {
          "base_uri": "https://localhost:8080/"
        },
        "id": "mPIxiaLkH2ex",
        "outputId": "5c667e3b-5c94-4046-ef0c-c15655b4044e"
      },
      "execution_count": 42,
      "outputs": [
        {
          "output_type": "stream",
          "name": "stdout",
          "text": [
            "Epoch 1/25\n",
            "37/37 [==============================] - 8s 86ms/step - loss: 0.6654 - accuracy: 0.6321 - val_loss: 0.6483 - val_accuracy: 0.6428\n",
            "Epoch 2/25\n",
            "37/37 [==============================] - 2s 67ms/step - loss: 0.6300 - accuracy: 0.6360 - val_loss: 0.5984 - val_accuracy: 0.6601\n",
            "Epoch 3/25\n",
            "37/37 [==============================] - 2s 67ms/step - loss: 0.4778 - accuracy: 0.7869 - val_loss: 0.5404 - val_accuracy: 0.7610\n",
            "Epoch 4/25\n",
            "37/37 [==============================] - 3s 68ms/step - loss: 0.3206 - accuracy: 0.8828 - val_loss: 0.4745 - val_accuracy: 0.7748\n",
            "Epoch 5/25\n",
            "37/37 [==============================] - 4s 101ms/step - loss: 0.2391 - accuracy: 0.9195 - val_loss: 0.5483 - val_accuracy: 0.7852\n",
            "Epoch 6/25\n",
            "37/37 [==============================] - 2s 67ms/step - loss: 0.1715 - accuracy: 0.9421 - val_loss: 0.5436 - val_accuracy: 0.7808\n",
            "Epoch 7/25\n",
            "37/37 [==============================] - 2s 66ms/step - loss: 0.1325 - accuracy: 0.9575 - val_loss: 0.5897 - val_accuracy: 0.7981\n",
            "Epoch 8/25\n",
            "37/37 [==============================] - 3s 69ms/step - loss: 0.1122 - accuracy: 0.9627 - val_loss: 0.6615 - val_accuracy: 0.7895\n",
            "Epoch 9/25\n",
            "37/37 [==============================] - 3s 84ms/step - loss: 0.0856 - accuracy: 0.9715 - val_loss: 0.6893 - val_accuracy: 0.7912\n",
            "Epoch 10/25\n",
            "37/37 [==============================] - 3s 86ms/step - loss: 0.0655 - accuracy: 0.9793 - val_loss: 0.8218 - val_accuracy: 0.7791\n",
            "Epoch 11/25\n",
            "37/37 [==============================] - 2s 67ms/step - loss: 0.0640 - accuracy: 0.9771 - val_loss: 0.8758 - val_accuracy: 0.7705\n",
            "Epoch 12/25\n",
            "37/37 [==============================] - 3s 69ms/step - loss: 0.0505 - accuracy: 0.9814 - val_loss: 0.8834 - val_accuracy: 0.7679\n",
            "Epoch 13/25\n",
            "37/37 [==============================] - 2s 67ms/step - loss: 0.0429 - accuracy: 0.9853 - val_loss: 0.9715 - val_accuracy: 0.7688\n",
            "Epoch 14/25\n",
            "37/37 [==============================] - 4s 103ms/step - loss: 0.0379 - accuracy: 0.9858 - val_loss: 1.1031 - val_accuracy: 0.7722\n",
            "Epoch 15/25\n",
            "37/37 [==============================] - 3s 86ms/step - loss: 0.0334 - accuracy: 0.9894 - val_loss: 0.9949 - val_accuracy: 0.7696\n",
            "Epoch 16/25\n",
            "37/37 [==============================] - 3s 89ms/step - loss: 0.0328 - accuracy: 0.9901 - val_loss: 1.1057 - val_accuracy: 0.7679\n",
            "Epoch 17/25\n",
            "37/37 [==============================] - 5s 136ms/step - loss: 0.0344 - accuracy: 0.9905 - val_loss: 1.0762 - val_accuracy: 0.7670\n",
            "Epoch 18/25\n",
            "37/37 [==============================] - 4s 120ms/step - loss: 0.0299 - accuracy: 0.9903 - val_loss: 1.1599 - val_accuracy: 0.7653\n",
            "Epoch 19/25\n",
            "37/37 [==============================] - 3s 88ms/step - loss: 0.0251 - accuracy: 0.9920 - val_loss: 1.1791 - val_accuracy: 0.7645\n",
            "Epoch 20/25\n",
            "37/37 [==============================] - 3s 93ms/step - loss: 0.0247 - accuracy: 0.9931 - val_loss: 1.1810 - val_accuracy: 0.7757\n",
            "Epoch 21/25\n",
            "37/37 [==============================] - 5s 133ms/step - loss: 0.0189 - accuracy: 0.9948 - val_loss: 1.3958 - val_accuracy: 0.7679\n",
            "Epoch 22/25\n",
            "37/37 [==============================] - 2s 68ms/step - loss: 0.0202 - accuracy: 0.9935 - val_loss: 1.2868 - val_accuracy: 0.7748\n",
            "Epoch 23/25\n",
            "37/37 [==============================] - 2s 67ms/step - loss: 0.0189 - accuracy: 0.9950 - val_loss: 1.1898 - val_accuracy: 0.7670\n",
            "Epoch 24/25\n",
            "37/37 [==============================] - 2s 67ms/step - loss: 0.0144 - accuracy: 0.9963 - val_loss: 1.3239 - val_accuracy: 0.7696\n",
            "Epoch 25/25\n",
            "37/37 [==============================] - 3s 94ms/step - loss: 0.0118 - accuracy: 0.9961 - val_loss: 1.4253 - val_accuracy: 0.7653\n"
          ]
        }
      ]
    },
    {
      "cell_type": "code",
      "source": [
        "plot_graphs(history_lstm, 'accuracy')\n",
        "plot_graphs(history_lstm, 'loss')"
      ],
      "metadata": {
        "colab": {
          "base_uri": "https://localhost:8080/",
          "height": 881
        },
        "id": "jdg9Z1kkJkMR",
        "outputId": "f74f3e31-17a9-46a7-9012-70bd7c8ba2e4"
      },
      "execution_count": 43,
      "outputs": [
        {
          "output_type": "display_data",
          "data": {
            "text/plain": [
              "<Figure size 640x480 with 1 Axes>"
            ],
            "image/png": "[encoded data removed]"
          },
          "metadata": {}
        },
        {
          "output_type": "display_data",
          "data": {
            "text/plain": [
              "<Figure size 640x480 with 1 Axes>"
            ],
            "image/png": "[encoded data removed]"
          },
          "metadata": {}
        }
      ]
    },
    {
      "cell_type": "markdown",
      "source": [
        "In the model_lstm2:\n",
        "\n",
        "- SpatialDropout1D Layer (0.2): Added for preventing overfitting.\n",
        "\n",
        "- Conv1D Layer: Included to capture local patterns in text data.\n",
        "\n",
        "- Dropout Layers (0.5): Implemented to enhance generalization.\n",
        "\n",
        "- Dense Layers (256, L2 Regularization): Added for capturing higher-level patterns"
      ],
      "metadata": {
        "id": "2khStUG5h5FL"
      }
    },
    {
      "cell_type": "code",
      "source": [
        "model_lstm2 = Sequential([\n",
        "    Embedding(num_words, embedding_dim, input_length=max_length),\n",
        "    SpatialDropout1D(0.2),\n",
        "    Conv1D(32, 5, activation='relu'),\n",
        "    Dropout(0.5),\n",
        "    Bidirectional(LSTM(32, dropout=0.2, recurrent_dropout=0.2)),\n",
        "    Dropout(0.5),\n",
        "    Dense(256, activation='relu', kernel_regularizer=l2(0.01)),\n",
        "    Dropout(0.5),\n",
        "    Dense(256, activation='relu', kernel_regularizer=l2(0.01)),\n",
        "    Dense(1, activation='sigmoid')\n",
        "])\n",
        "\n",
        "model_lstm2.compile(loss='binary_crossentropy', optimizer='adam', metrics=['accuracy'])\n",
        "\n",
        "model_lstm2.summary()"
      ],
      "metadata": {
        "colab": {
          "base_uri": "https://localhost:8080/"
        },
        "id": "5SFW2cYbUz_n",
        "outputId": "93d3791e-4be5-46d1-bd26-bf1a6c2ac7d7"
      },
      "execution_count": 45,
      "outputs": [
        {
          "output_type": "stream",
          "name": "stdout",
          "text": [
            "Model: \"sequential_7\"\n",
            "_________________________________________________________________\n",
            " Layer (type)                Output Shape              Param #   \n",
            "=================================================================\n",
            " embedding_7 (Embedding)     (None, 30, 16)            160000    \n",
            "                                                                 \n",
            " spatial_dropout1d_3 (Spati  (None, 30, 16)            0         \n",
            " alDropout1D)                                                    \n",
            "                                                                 \n",
            " conv1d_3 (Conv1D)           (None, 26, 32)            2592      \n",
            "                                                                 \n",
            " dropout_7 (Dropout)         (None, 26, 32)            0         \n",
            "                                                                 \n",
            " bidirectional_4 (Bidirecti  (None, 64)                16640     \n",
            " onal)                                                           \n",
            "                                                                 \n",
            " dropout_8 (Dropout)         (None, 64)                0         \n",
            "                                                                 \n",
            " dense_15 (Dense)            (None, 256)               16640     \n",
            "                                                                 \n",
            " dropout_9 (Dropout)         (None, 256)               0         \n",
            "                                                                 \n",
            " dense_16 (Dense)            (None, 256)               65792     \n",
            "                                                                 \n",
            " dense_17 (Dense)            (None, 1)                 257       \n",
            "                                                                 \n",
            "=================================================================\n",
            "Total params: 261921 (1023.13 KB)\n",
            "Trainable params: 261921 (1023.13 KB)\n",
            "Non-trainable params: 0 (0.00 Byte)\n",
            "_________________________________________________________________\n"
          ]
        }
      ]
    },
    {
      "cell_type": "code",
      "source": [
        "history_lstm2 = model_lstm2.fit(x_train, y_train, batch_size=BATCH_SIZE, epochs=NUM_EPOCHS, validation_data=(x_test, y_test))"
      ],
      "metadata": {
        "colab": {
          "base_uri": "https://localhost:8080/"
        },
        "id": "c-OxtiTf9108",
        "outputId": "f0c33160-9fae-4540-debe-05975fcbd349"
      },
      "execution_count": 28,
      "outputs": [
        {
          "output_type": "stream",
          "name": "stdout",
          "text": [
            "Epoch 1/25\n",
            "37/37 [==============================] - 13s 163ms/step - loss: 2.9567 - accuracy: 0.6222 - val_loss: 1.8785 - val_accuracy: 0.6428\n",
            "Epoch 2/25\n",
            "37/37 [==============================] - 4s 107ms/step - loss: 1.3925 - accuracy: 0.6347 - val_loss: 1.0147 - val_accuracy: 0.6428\n",
            "Epoch 3/25\n",
            "37/37 [==============================] - 4s 114ms/step - loss: 0.8656 - accuracy: 0.6347 - val_loss: 0.7473 - val_accuracy: 0.6428\n",
            "Epoch 4/25\n",
            "37/37 [==============================] - 5s 144ms/step - loss: 0.6916 - accuracy: 0.6347 - val_loss: 0.6141 - val_accuracy: 0.6428\n",
            "Epoch 5/25\n",
            "37/37 [==============================] - 4s 109ms/step - loss: 0.5067 - accuracy: 0.7077 - val_loss: 0.5620 - val_accuracy: 0.7506\n",
            "Epoch 6/25\n",
            "37/37 [==============================] - 4s 108ms/step - loss: 0.4043 - accuracy: 0.8905 - val_loss: 0.5820 - val_accuracy: 0.7627\n",
            "Epoch 7/25\n",
            "37/37 [==============================] - 5s 144ms/step - loss: 0.3535 - accuracy: 0.9223 - val_loss: 0.7936 - val_accuracy: 0.7601\n",
            "Epoch 8/25\n",
            "37/37 [==============================] - 4s 108ms/step - loss: 0.3243 - accuracy: 0.9357 - val_loss: 0.7082 - val_accuracy: 0.7593\n",
            "Epoch 9/25\n",
            "37/37 [==============================] - 4s 108ms/step - loss: 0.3113 - accuracy: 0.9372 - val_loss: 0.8065 - val_accuracy: 0.7688\n",
            "Epoch 10/25\n",
            "37/37 [==============================] - 5s 144ms/step - loss: 0.2868 - accuracy: 0.9514 - val_loss: 0.8476 - val_accuracy: 0.7670\n",
            "Epoch 11/25\n",
            "37/37 [==============================] - 4s 108ms/step - loss: 0.2708 - accuracy: 0.9592 - val_loss: 0.8094 - val_accuracy: 0.7705\n",
            "Epoch 12/25\n",
            "37/37 [==============================] - 4s 105ms/step - loss: 0.2653 - accuracy: 0.9542 - val_loss: 0.9077 - val_accuracy: 0.7610\n",
            "Epoch 13/25\n",
            "37/37 [==============================] - 5s 143ms/step - loss: 0.2541 - accuracy: 0.9596 - val_loss: 0.7538 - val_accuracy: 0.7593\n",
            "Epoch 14/25\n",
            "37/37 [==============================] - 4s 108ms/step - loss: 0.2387 - accuracy: 0.9637 - val_loss: 0.9185 - val_accuracy: 0.7610\n",
            "Epoch 15/25\n",
            "37/37 [==============================] - 4s 112ms/step - loss: 0.2336 - accuracy: 0.9646 - val_loss: 0.8002 - val_accuracy: 0.7636\n",
            "Epoch 16/25\n",
            "37/37 [==============================] - 5s 138ms/step - loss: 0.2268 - accuracy: 0.9659 - val_loss: 0.7929 - val_accuracy: 0.7584\n",
            "Epoch 17/25\n",
            "37/37 [==============================] - 4s 109ms/step - loss: 0.2183 - accuracy: 0.9674 - val_loss: 0.8649 - val_accuracy: 0.7601\n",
            "Epoch 18/25\n",
            "37/37 [==============================] - 4s 118ms/step - loss: 0.2151 - accuracy: 0.9696 - val_loss: 0.9521 - val_accuracy: 0.7575\n",
            "Epoch 19/25\n",
            "37/37 [==============================] - 5s 132ms/step - loss: 0.2069 - accuracy: 0.9709 - val_loss: 0.9654 - val_accuracy: 0.7575\n",
            "Epoch 20/25\n",
            "37/37 [==============================] - 4s 110ms/step - loss: 0.2024 - accuracy: 0.9715 - val_loss: 1.0294 - val_accuracy: 0.7515\n",
            "Epoch 21/25\n",
            "37/37 [==============================] - 5s 127ms/step - loss: 0.1949 - accuracy: 0.9739 - val_loss: 0.9310 - val_accuracy: 0.7584\n",
            "Epoch 22/25\n",
            "37/37 [==============================] - 5s 127ms/step - loss: 0.1876 - accuracy: 0.9763 - val_loss: 0.8583 - val_accuracy: 0.7558\n",
            "Epoch 23/25\n",
            "37/37 [==============================] - 4s 109ms/step - loss: 0.1840 - accuracy: 0.9747 - val_loss: 0.8325 - val_accuracy: 0.7584\n",
            "Epoch 24/25\n",
            "37/37 [==============================] - 5s 143ms/step - loss: 0.1795 - accuracy: 0.9743 - val_loss: 0.7759 - val_accuracy: 0.7662\n",
            "Epoch 25/25\n",
            "37/37 [==============================] - 4s 108ms/step - loss: 0.1776 - accuracy: 0.9754 - val_loss: 0.8411 - val_accuracy: 0.7601\n"
          ]
        }
      ]
    },
    {
      "cell_type": "code",
      "source": [
        "plot_graphs(history_lstm2, 'accuracy')\n",
        "plot_graphs(history_lstm2, 'loss')"
      ],
      "metadata": {
        "colab": {
          "base_uri": "https://localhost:8080/",
          "height": 881
        },
        "id": "99j7S6fs-Nm5",
        "outputId": "e660caf4-5199-4628-e2ed-acac2a50116f"
      },
      "execution_count": 29,
      "outputs": [
        {
          "output_type": "display_data",
          "data": {
            "text/plain": [
              "<Figure size 640x480 with 1 Axes>"
            ],
            "image/png": "[encoded data removed]"
          },
          "metadata": {}
        },
        {
          "output_type": "display_data",
          "data": {
            "text/plain": [
              "<Figure size 640x480 with 1 Axes>"
            ],
            "image/png": "[encoded data removed]"
          },
          "metadata": {}
        }
      ]
    },
    {
      "cell_type": "markdown",
      "source": [
        "Test on real texts that the model never saw:"
      ],
      "metadata": {
        "id": "Xb-zyi9liYPf"
      }
    },
    {
      "cell_type": "code",
      "source": [
        "real_text = \"The stock market is on a steady upward trajectory, with gains across various sectors. Consumer confidence is at an all-time high, and economic indicators point to a thriving economy.\"\n",
        "\n",
        "# Tokenization of the text\n",
        "real_text = [real_text]\n",
        "real_text_sequences = tokenizer.texts_to_sequences(real_text)\n",
        "\n",
        "# Padding the sequences to match the input length\n",
        "real_text_padded = pad_sequences(real_text_sequences, maxlen=max_length)\n",
        "\n",
        "# Make predictions using the trained model\n",
        "predictions = model_lstm2.predict(real_text_padded)\n",
        "\n",
        "# Interpretation of the prediction\n",
        "if predictions[0] < 0.5:\n",
        "    sentiment_label = \"Negative\"\n",
        "else:\n",
        "    sentiment_label = \"Positive\"\n",
        "\n",
        "print(\"Market Sentiment Prediction:\", sentiment_label)"
      ],
      "metadata": {
        "colab": {
          "base_uri": "https://localhost:8080/"
        },
        "id": "7sWAIm-WCKx3",
        "outputId": "335d3419-e7b0-40a8-e892-950921cc46e1"
      },
      "execution_count": 30,
      "outputs": [
        {
          "output_type": "stream",
          "name": "stdout",
          "text": [
            "1/1 [==============================] - 1s 543ms/step\n",
            "Market Sentiment Prediction: Positive\n"
          ]
        }
      ]
    },
    {
      "cell_type": "code",
      "source": [
        "real_text = \"Poor earnings reports from major companies have sent shockwaves through the financial markets, leading to widespread panic selling.\"\n",
        "\n",
        "real_text = [real_text]\n",
        "real_text_sequences = tokenizer.texts_to_sequences(real_text)\n",
        "\n",
        "real_text_padded = pad_sequences(real_text_sequences, maxlen=max_length)\n",
        "predictions = model_lstm2.predict(real_text_padded)\n",
        "\n",
        "if predictions[0] < 0.5:\n",
        "    sentiment_label = \"Negative\"\n",
        "else:\n",
        "    sentiment_label = \"Positive\"\n",
        "\n",
        "print(\"Market Sentiment Prediction:\", sentiment_label)"
      ],
      "metadata": {
        "colab": {
          "base_uri": "https://localhost:8080/"
        },
        "id": "TGj2foggC7gS",
        "outputId": "f1a93d30-96a6-481f-d930-20afdcaf20dc"
      },
      "execution_count": 31,
      "outputs": [
        {
          "output_type": "stream",
          "name": "stdout",
          "text": [
            "1/1 [==============================] - 0s 30ms/step\n",
            "Market Sentiment Prediction: Negative\n"
          ]
        }
      ]
    }
  ]
}